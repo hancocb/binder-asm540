{
 "cells": [
  {
   "cell_type": "markdown",
   "metadata": {},
   "source": [
    "# Quick introduction to GeoPandas\n",
    "From the [GeoPandas documentation](http://geopandas.org/):\n",
    "> GeoPandas is an open source project to make working with geospatial data in python easier. GeoPandas extends  the datatypes used by [pandas](http://pandas.pydata.org) to allow spatial operations on geometric types. Geometric operations are performed by [shapely](http://toblerity.github.io/shapely). Geopandas further depends on [fiona](http://toblerity.github.io/fiona) for file access and [descartes](https://pypi.python.org/pypi/descartes) and [matplotlib](http://matplotlib.org) for plotting."
   ]
  },
  {
   "cell_type": "markdown",
   "metadata": {},
   "source": [
    "## Creating a GeoDataFrame from a DataFrame with coordinates"
   ]
  },
  {
   "cell_type": "code",
   "execution_count": 2,
   "metadata": {},
   "outputs": [],
   "source": [
    "import pandas as pd\n",
    "import geopandas\n",
    "from shapely.geometry import Point\n",
    "import matplotlib.pyplot as plt"
   ]
  },
  {
   "cell_type": "markdown",
   "metadata": {},
   "source": [
    "The variable below named *car* is an example of a Python **dictionary**. Dictionaries are wrapped with curly braces \"{}\" and use keys to reference values. Numbers or strings can be used as keys.\n",
    "```Python\n",
    "car = {\n",
    "    \"make\": \"toyota\",  # key: value\n",
    "    \"color\": \"silver\",  # key: value\n",
    "    \"miles\": 50  # key: value\n",
    "}\n",
    "```\n",
    "As you can see above, *car* has three keys: make, color, and miles. The values do not have to be the same type - in this case two are strings and one an integer."
   ]
  },
  {
   "cell_type": "code",
   "execution_count": 22,
   "metadata": {},
   "outputs": [
    {
     "name": "stdout",
     "output_type": "stream",
     "text": [
      "dict_keys(['make', 'color', 'miles'])\n",
      "make: toyota\n",
      "dict_keys(['make', 'color', 'miles', 'model'])\n",
      "color: silver\n",
      "color: red\n"
     ]
    }
   ],
   "source": [
    "car = {\"make\": \"toyota\", \"color\": \"silver\", \"miles\": 50}\n",
    "\n",
    "# Dictionaries have a built-in method call \"keys\" that returns the key names\n",
    "print(car.keys())\n",
    "\n",
    "# Values can be looked up by using keys\n",
    "print(f'make: {car[\"make\"]}')\n",
    "\n",
    "# New keys can be added to an existing dictionary\n",
    "car[\"model\"] = \"prius\"\n",
    "print(car.keys())\n",
    "\n",
    "# An existing key's value can be updated\n",
    "print(f'color: {car[\"color\"]}')\n",
    "car[\"color\"] = \"red\"\n",
    "print(f'color: {car[\"color\"]}')"
   ]
  },
  {
   "cell_type": "code",
   "execution_count": 23,
   "metadata": {},
   "outputs": [
    {
     "name": "stdout",
     "output_type": "stream",
     "text": [
      "           City    Country  Latitude  Longitude\n",
      "0  Buenos Aires  Argentina    -34.58     -58.66\n",
      "1      Brasilia     Brazil    -15.78     -47.91\n",
      "2      Santiago      Chile    -33.45     -70.66\n",
      "3        Bogota   Colombia      4.60     -74.08\n",
      "4       Caracas  Venezuela     10.48     -66.86\n"
     ]
    }
   ],
   "source": [
    "# Dictionary containing information on five cities located in South America\n",
    "city_data = {\n",
    "    'City': ['Buenos Aires', 'Brasilia', 'Santiago', 'Bogota', 'Caracas'],\n",
    "    'Country': ['Argentina', 'Brazil', 'Chile', 'Colombia', 'Venezuela'],\n",
    "    'Latitude': [-34.58, -15.78, -33.45, 4.60, 10.48],\n",
    "    'Longitude': [-58.66, -47.91, -70.66, -74.08, -66.86]\n",
    "}\n",
    "# Pandas DataFrame created from the dictionary\n",
    "df = pd.DataFrame(city_data)\n",
    "print(df.head())"
   ]
  },
  {
   "cell_type": "code",
   "execution_count": 29,
   "metadata": {
    "scrolled": true
   },
   "outputs": [
    {
     "name": "stdout",
     "output_type": "stream",
     "text": [
      "           City    Country  Latitude  Longitude            Coordinates\n",
      "0  Buenos Aires  Argentina    -34.58     -58.66  POINT (-58.66 -34.58)\n",
      "<class 'shapely.geometry.point.Point'>\n"
     ]
    }
   ],
   "source": [
    "# GeoDataFrame's require spatial information to be in a specific format\n",
    "# The follow three lines creates shapely point objects for the lat/lon\n",
    "df['Coordinates'] = list(zip(df.Longitude, df.Latitude))\n",
    "df['Coordinates'] = df['Coordinates'].apply(Point)\n",
    "gdf = geopandas.GeoDataFrame(df, geometry='Coordinates')\n",
    "print(gdf.head(1))\n",
    "print(type(gdf['Coordinates'].values[0]))"
   ]
  },
  {
   "cell_type": "code",
   "execution_count": 31,
   "metadata": {},
   "outputs": [
    {
     "data": {
      "image/png": "[encoded data removed]",
      "text/plain": [
       "<Figure size 432x288 with 1 Axes>"
      ]
     },
     "metadata": {
      "needs_background": "light"
     },
     "output_type": "display_data"
    }
   ],
   "source": [
    "# GeoPandas has a few built-in datasets you can access at any time\n",
    "world = geopandas.read_file(geopandas.datasets.get_path('naturalearth_lowres'))\n",
    "\n",
    "# Restricting the world map extent to the continent of South America and\n",
    "# styling the fill and stroke (edge) colors\n",
    "ax = world[world.continent == 'South America'].plot(\n",
    "    color='white', edgecolor='black')\n",
    "\n",
    "# Plotting the city data with blue points\n",
    "gdf.plot(ax=ax, color='blue')\n",
    "\n",
    "plt.show()"
   ]
  },
  {
   "cell_type": "code",
   "execution_count": null,
   "metadata": {},
   "outputs": [],
   "source": []
  }
 ],
 "metadata": {
  "kernelspec": {
   "display_name": "Python 3",
   "language": "python",
   "name": "python3"
  },
  "language_info": {
   "codemirror_mode": {
    "name": "ipython",
    "version": 3
   },
   "file_extension": ".py",
   "mimetype": "text/x-python",
   "name": "python",
   "nbconvert_exporter": "python",
   "pygments_lexer": "ipython3",
   "version": "3.7.0"
  }
 },
 "nbformat": 4,
 "nbformat_minor": 2
}
