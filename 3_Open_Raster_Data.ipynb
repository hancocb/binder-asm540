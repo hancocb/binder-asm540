{
 "cells": [
  {
   "cell_type": "markdown",
   "metadata": {},
   "source": [
    "The following exercise was created by Earth Lab (University of Colorado). Leah Wasser, Joe McGlinchy, Chris Holdgraf, and Martha Morrissey were the authors for this particular exercise. This exercise and more can be found [here](https://www.earthdatascience.org/workshops/gis-open-source-python/)."
   ]
  },
  {
   "cell_type": "markdown",
   "metadata": {},
   "source": [
    "# Open, Plot and Explore Lidar Data in Raster Format with Python\n",
    "by Leah Wasser, Joe McGlinchy, Chris Holdgraf, and Martha Morrissey. Copyright (c) Earth Lab"
   ]
  },
  {
   "cell_type": "markdown",
   "metadata": {},
   "source": [
    "## Learning Objectives\n",
    "After completing this tutorial, you will be able to:\n",
    "\n",
    "* Open a lidar raster dataset in Python using rasterio and a context manager to handle file connections.\n",
    "* Be able to identify the resolution of a raster in Python.\n",
    "* Be able to plot a lidar raster dataset in Python using matplotlib."
   ]
  },
  {
   "cell_type": "markdown",
   "metadata": {},
   "source": [
    "## What is a Raster?\n",
    "Raster or “gridded” data are stored as a grid of values which are rendered on a map as pixels. Each pixel value represents an area on the Earth’s surface. A raster file is a composed of regular grid of cells, all of which are the same size. You’ve looked at and used rasters before if you’ve looked at photographs or imagery in a tool like Google Earth. However, the raster files that you will work with are different from photographs in that they are spatially referenced. Each pixel represents an area of land on the ground. That area is defined by the spatial resolution of the raster.\n",
    "Inline-style: \n",
    "![alt text](./images/raster-concept.png \"Raster Concept\")\n",
    "*A raster is composed of a regular grid of cells. Each cell is the same size in the x and y direction. Source: Colin Williams, NEON.*"
   ]
  },
  {
   "cell_type": "markdown",
   "metadata": {},
   "source": [
    "## Raster Facts\n",
    "A few notes about rasters:\n",
    "\n",
    "* Each cell is called a pixel.\n",
    "* And each pixel represents an area on the ground.\n",
    "* The resolution of the raster represents the area that each pixel represents the area it represents on the ground. So, a 1 meter resolution raster, means that each pixel represents a 1 m by 1m area on the ground.\n",
    "\n",
    "A raster dataset can have attributes associated with it as well. For instance in a LiDAR derived digital elevation model (DEM), each cell represents an elevation value for that location on the earth. In a LIDAR derived intensity image, each cell represents a LIDAR intensity value or the amount of light energy returned to and recorded by the sensor."
   ]
  },
  {
   "cell_type": "markdown",
   "metadata": {},
   "source": [
    "![alt text](./images/raster-resolution.png \"Raster Resolution\")\n",
    "*Rasters can be stored at different resolutions. The resolution simply represents the size of each pixel cell. Source: Colin Williams, NEON.*"
   ]
  },
  {
   "cell_type": "code",
   "execution_count": null,
   "metadata": {},
   "outputs": [],
   "source": []
  }
 ],
 "metadata": {
  "kernelspec": {
   "display_name": "Python 3",
   "language": "python",
   "name": "python3"
  },
  "language_info": {
   "codemirror_mode": {
    "name": "ipython",
    "version": 3
   },
   "file_extension": ".py",
   "mimetype": "text/x-python",
   "name": "python",
   "nbconvert_exporter": "python",
   "pygments_lexer": "ipython3",
   "version": "3.6.6"
  }
 },
 "nbformat": 4,
 "nbformat_minor": 2
}
